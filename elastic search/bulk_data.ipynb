{
 "cells": [
  {
   "cell_type": "code",
   "execution_count": 1,
   "metadata": {},
   "outputs": [],
   "source": [
    "# Import relevant libraries\n",
    "from elasticsearch import Elasticsearch\n",
    "from elasticsearch import helpers\n",
    "import pandas as pd\n",
    "\n",
    "import warnings\n",
    "warnings.filterwarnings('ignore')"
   ]
  },
  {
   "cell_type": "code",
   "execution_count": 28,
   "metadata": {},
   "outputs": [],
   "source": [
    "# Read the monarchs csv file\n",
    "monarchs_df = pd.read_csv('../corpus/srilankanMonarchs.csv', encoding=\"utf-8\")"
   ]
  },
  {
   "cell_type": "markdown",
   "metadata": {},
   "source": [
    "## Data preprocessing"
   ]
  },
  {
   "cell_type": "code",
   "execution_count": 29,
   "metadata": {},
   "outputs": [
    {
     "data": {
      "text/plain": [
       "name             0\n",
       "detail         103\n",
       "spouse         166\n",
       "kingdom          0\n",
       "dynasty          0\n",
       "reign_start      0\n",
       "reign_end        0\n",
       "predecessor    105\n",
       "successor      107\n",
       "dtype: int64"
      ]
     },
     "execution_count": 29,
     "metadata": {},
     "output_type": "execute_result"
    }
   ],
   "source": [
    "# Check for null values\n",
    "monarchs_df.isnull().sum()"
   ]
  },
  {
   "cell_type": "code",
   "execution_count": 30,
   "metadata": {},
   "outputs": [],
   "source": [
    "def preprocess_data(df):\n",
    "\n",
    "    # Replace null with empty strings\n",
    "    df = df.fillna(\"\")\n",
    "\n",
    "    # Replace unrecognized characters\n",
    "    df = df.replace(\"\\u200d\",'', regex=True)\n",
    "\n",
    "    def preprocess_date(x):\n",
    "        # If x(timeline) is B.C then consider it to be a negative value else a positive value. \n",
    "        if (\"ක්රි.පූ.\" in x ):\n",
    "            x=x.replace(\"ක්රි.පූ.\",\"-\")\n",
    "        if (\"ක්රි.ව.\" in x ):\n",
    "            x=x.replace(\"ක්රි.ව.\",\"\")\n",
    "        \n",
    "        if (x!=\"\"):\n",
    "            return eval(x)\n",
    "        return x\n",
    "    \n",
    "    # Convert timeline to positive and negative integers\n",
    "    df['reign_start'] = df['reign_start'].apply(preprocess_date)\n",
    "    df['reign_end'] = df['reign_end'].apply(preprocess_date)\n",
    "    \n",
    "    return df\n"
   ]
  },
  {
   "cell_type": "code",
   "execution_count": 31,
   "metadata": {},
   "outputs": [],
   "source": [
    "# Preprocess the monarchs data \n",
    "monarchs_df = preprocess_data(monarchs_df)"
   ]
  },
  {
   "cell_type": "markdown",
   "metadata": {},
   "source": [
    "## Connect and upload data to elastic search localhost server"
   ]
  },
  {
   "cell_type": "code",
   "execution_count": 32,
   "metadata": {},
   "outputs": [],
   "source": [
    "# Declare an instance of the Python Elasticsearch library\n",
    "ENDPOINT = 'http://localhost:9200/'\n",
    "es = Elasticsearch(timeout = 600, hosts=ENDPOINT)"
   ]
  },
  {
   "cell_type": "code",
   "execution_count": 33,
   "metadata": {},
   "outputs": [
    {
     "data": {
      "text/plain": [
       "True"
      ]
     },
     "execution_count": 33,
     "metadata": {},
     "output_type": "execute_result"
    }
   ],
   "source": [
    "# Check for the connection\n",
    "es.ping()"
   ]
  },
  {
   "cell_type": "code",
   "execution_count": 34,
   "metadata": {},
   "outputs": [],
   "source": [
    "# Convert the records to json\n",
    "monarchs_dict = monarchs_df.to_dict('records')"
   ]
  },
  {
   "cell_type": "code",
   "execution_count": 35,
   "metadata": {},
   "outputs": [],
   "source": [
    "\n",
    "# Convert data into ELK format\n",
    "def generator(df):\n",
    "    for c, line in enumerate(df):\n",
    "        yield{\n",
    "            '_index': 'monarchs',\n",
    "            '_type':'_doc',\n",
    "            '_id' : c,\n",
    "            '_source': {\n",
    "                'name': line.get('name', ''),\n",
    "                'detail': line.get('detail', ''),\n",
    "                'spouse' : line.get('spouse', ''),\n",
    "                'kingdom': line.get('kingdom', ''),\n",
    "                'dynasty': line.get('dynasty', ''),\n",
    "                'reign_start': line.get('reign_start', ''),\n",
    "                'reign_end' : line.get('reign_end', ''),\n",
    "                'predecessor': line.get('predecessor', ''),\n",
    "                'successor': line.get('successor', '')\n",
    "            }\n",
    "        }\n",
    "    # raise StopIteration"
   ]
  },
  {
   "cell_type": "code",
   "execution_count": 38,
   "metadata": {},
   "outputs": [],
   "source": [
    "# Define the mappings for the elastic search index\n",
    "Settings = {\n",
    "    \"settings\": {\n",
    "       \"index\": {\n",
    "          \"number_of_shards\": 1,\n",
    "          \"number_of_replicas\": 1\n",
    "       },\n",
    "       \"analysis\": {\n",
    "          \"analyzer\": { \n",
    "\n",
    "            \"sin_analyzer\": {\n",
    "                \"type\": \"custom\",\n",
    "                \"tokenizer\": \"icu_tokenizer\",\n",
    "                \"char_filter\": [\"punctuation_filter\"],\n",
    "                \"filter\": [\"sin_stopwords\",\"sin_synonyms\", \"sin_stemmer\" ,\"edge_ngram_filter\"]\n",
    "            },\n",
    "            \"sin_search_analyzer\" : {\n",
    "                \"type\": \"custom\",\n",
    "                \"tokenizer\": \"icu_tokenizer\",\n",
    "                \"char_filter\":[\"punctuation_filter\"], \n",
    "                \"filter\":[\"sin_stopwords\",\"sin_synonyms\", \"sin_stemmer\"]\n",
    "            }\n",
    "         },\n",
    "\n",
    "         \"char_filter\": {\n",
    "            \"punctuation_filter\":{\n",
    "               \"type\":\"mapping\",\n",
    "               \"mappings\":[\".=>\",\":=>\",\"|=>\",\"-=>\",\"_=>\",\"'=>\",\"/=>\",\",=>\"]\n",
    "            }\n",
    "         },\n",
    "\n",
    "         \"filter\": {\n",
    "               \"edge_ngram_filter\": {\n",
    "                    \"type\" : \"edge_ngram\",\n",
    "                    \"min_gram\":\"3\",\n",
    "                    \"max_gram\":\"20\",\n",
    "                    \"side\":\"front\"\n",
    "               },\n",
    "               \"sin_stemmer\": {\n",
    "                  \"type\": \"hunspell\",\n",
    "                  \"locale\": \"si_LK\"\n",
    "               },\n",
    "               \"sin_stopwords\":{\n",
    "                   \"type\":\"stop\",\n",
    "                   \"stopwords_path\": \"analyzers/stopwords.txt\"\n",
    "               },\n",
    "               \"sin_synonyms\":{\n",
    "                   \"type\": \"synonym\",\n",
    "                   \"synonyms_path\": \"analyzers/synonym.txt\"\n",
    "               }\n",
    "         }\n",
    "       }\n",
    "    },\n",
    "\n",
    "    \"mappings\": {\n",
    "        'properties' : {\n",
    "          'name': {\n",
    "              'type': 'text' ,\n",
    "              \"analyzer\":\"sin_analyzer\",\n",
    "              \"search_analyzer\": \"sin_search_analyzer\"\n",
    "          },\n",
    "          'detail' : {\n",
    "              'type' : 'text',\n",
    "              \"analyzer\":\"sin_analyzer\",\n",
    "              \"search_analyzer\": \"sin_search_analyzer\"\n",
    "          },\n",
    "          'spouse': {\n",
    "              'type': 'text',\n",
    "              \"analyzer\": \"sin_analyzer\",\n",
    "              \"search_analyzer\": \"sin_search_analyzer\"\n",
    "          },\n",
    "          'kingdom' : {\n",
    "              'type' : 'text', \n",
    "              \"analyzer\": \"sin_analyzer\",\n",
    "              \"search_analyzer\": \"sin_search_analyzer\",\n",
    "              \"fields\" : {\n",
    "                  \"keyword\" : {\n",
    "                      \"type\" : \"keyword\",\n",
    "                      \"ignore_above\" : 256\n",
    "                  }\n",
    "              }\n",
    "          },\n",
    "          'dynasty': {\n",
    "              'type': 'text' , \n",
    "              \"analyzer\": \"sin_analyzer\",\n",
    "              \"search_analyzer\": \"sin_search_analyzer\",\n",
    "              \"fields\" : {\n",
    "                  \"keyword\" : {\n",
    "                      \"type\" : \"keyword\",\n",
    "                      \"ignore_above\" : 256\n",
    "                  }\n",
    "              }\n",
    "          },\n",
    "          'reign_start' : {\n",
    "              'type' : 'short', \n",
    "          },\n",
    "          'reign_end': {\n",
    "              'type': 'short' , \n",
    "          },\n",
    "          'predecessor' : {\n",
    "              'type' : 'text', \n",
    "              \"analyzer\": \"sin_analyzer\",\n",
    "                \"search_analyzer\": \"sin_search_analyzer\",\n",
    "                \"fields\" : {\n",
    "                  \"keyword\" : {\n",
    "                      \"type\" : \"keyword\",\n",
    "                      \"ignore_above\" : 256\n",
    "                  }\n",
    "              }\n",
    "          },\n",
    "          'successor' : {\n",
    "              'type' : 'text', \n",
    "              \"analyzer\": \"sin_analyzer\",\n",
    "                \"search_analyzer\": \"sin_search_analyzer\",\n",
    "                \"fields\" : {\n",
    "                  \"keyword\" : {\n",
    "                      \"type\" : \"keyword\",\n",
    "                      \"ignore_above\" : 256\n",
    "                  }\n",
    "              }\n",
    "          }\n",
    "        } \n",
    "    }\n",
    "  \n",
    "}\n"
   ]
  },
  {
   "cell_type": "code",
   "execution_count": 39,
   "metadata": {},
   "outputs": [
    {
     "data": {
      "text/plain": [
       "{'acknowledged': True, 'shards_acknowledged': True, 'index': 'monarchs'}"
      ]
     },
     "execution_count": 39,
     "metadata": {},
     "output_type": "execute_result"
    }
   ],
   "source": [
    "# Create the index\n",
    "indexName = 'monarchs'\n",
    "es.indices.create(index = indexName, body=Settings)"
   ]
  },
  {
   "cell_type": "code",
   "execution_count": 40,
   "metadata": {},
   "outputs": [
    {
     "name": "stdout",
     "output_type": "stream",
     "text": [
      "working\n"
     ]
    }
   ],
   "source": [
    "# Upload the data in bulk\n",
    "try:\n",
    "    res = helpers.bulk(es,generator(monarchs_dict))\n",
    "    print('working')\n",
    "except Exception as e:\n",
    "    pass\n",
    "    print(e)"
   ]
  },
  {
   "cell_type": "code",
   "execution_count": null,
   "metadata": {},
   "outputs": [],
   "source": []
  }
 ],
 "metadata": {
  "interpreter": {
   "hash": "9758d4567c45880c594e0baab4a0ce00ea6e7014a700d6a376330b807639c1d1"
  },
  "kernelspec": {
   "display_name": "Python 3.7.6 64-bit ('env': venv)",
   "name": "python3"
  },
  "language_info": {
   "codemirror_mode": {
    "name": "ipython",
    "version": 3
   },
   "file_extension": ".py",
   "mimetype": "text/x-python",
   "name": "python",
   "nbconvert_exporter": "python",
   "pygments_lexer": "ipython3",
   "version": "3.7.6"
  },
  "orig_nbformat": 4
 },
 "nbformat": 4,
 "nbformat_minor": 2
}
